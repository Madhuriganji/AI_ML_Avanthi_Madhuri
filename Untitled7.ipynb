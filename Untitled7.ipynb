{
  "nbformat": 4,
  "nbformat_minor": 0,
  "metadata": {
    "colab": {
      "provenance": [],
      "authorship_tag": "ABX9TyNaMIZHuyp93QC7mf7y8z9B",
      "include_colab_link": true
    },
    "kernelspec": {
      "name": "python3",
      "display_name": "Python 3"
    },
    "language_info": {
      "name": "python"
    }
  },
  "cells": [
    {
      "cell_type": "markdown",
      "metadata": {
        "id": "view-in-github",
        "colab_type": "text"
      },
      "source": [
        "<a href=\"https://colab.research.google.com/github/Madhuriganji/AI_ML_Avanthi_Madhuri/blob/main/Untitled7.ipynb\" target=\"_parent\"><img src=\"https://colab.research.google.com/assets/colab-badge.svg\" alt=\"Open In Colab\"/></a>"
      ]
    },
    {
      "cell_type": "code",
      "execution_count": 2,
      "metadata": {
        "colab": {
          "base_uri": "https://localhost:8080/"
        },
        "id": "aFal2MMYaoJI",
        "outputId": "dea2f73b-ab87-491f-bfa2-05eb6a37470d"
      },
      "outputs": [
        {
          "output_type": "stream",
          "name": "stdout",
          "text": [
            "176\n"
          ]
        }
      ],
      "source": [
        "x=[1,32,24,13,97,1,8,14,99,34,5,56,8,23]\n",
        "sum=0\n",
        "for i in x:\n",
        "    if i%2==0:\n",
        "      sum+=i\n",
        "print(sum)"
      ]
    },
    {
      "cell_type": "code",
      "source": [
        "n=int(input(\"enter anumber\"))\n",
        "copy=n\n",
        "sum=0\n",
        "while n>0:\n",
        "   digit=n%10\n",
        "   cube = digit**3\n",
        "   n=n //10\n",
        "   sum+=cube\n",
        "if sum ==copy:\n",
        "   print(\"Armstrong Number\")\n",
        "else:\n",
        "  print(\"Not an Armstrong Number\")"
      ],
      "metadata": {
        "colab": {
          "base_uri": "https://localhost:8080/"
        },
        "id": "IKwP9iG_c0-5",
        "outputId": "ee4a3a8d-d781-4195-b05e-3a5b5e035561"
      },
      "execution_count": 4,
      "outputs": [
        {
          "output_type": "stream",
          "name": "stdout",
          "text": [
            "enter anumber153\n",
            "Armstrong Number\n"
          ]
        }
      ]
    },
    {
      "cell_type": "code",
      "source": [
        "x=[1,32,24,13,97,1,8,14,99,34,5,56,8,23]\n",
        " for i in range(len(x))\n",
        "  if x[i]%==0\n",
        "    for j in range(i+1,len(x)):\n",
        "      if x[i]=x[j]\n",
        "        break\n",
        "\n",
        ""
      ],
      "metadata": {
        "id": "hARCUVAFefY4"
      },
      "execution_count": null,
      "outputs": []
    },
    {
      "cell_type": "code",
      "source": [
        "my_dict={\n",
        "    \"name\":\"madhuri\",\n",
        "    \"age\": 19,\n",
        "    \"phone number\":9347905515,\n",
        "    \"favorite food\":\"chicken biryani\"\n",
        "}\n",
        "print(\"original dictionary:\",my_dict)\n",
        "\n",
        "\n"
      ],
      "metadata": {
        "colab": {
          "base_uri": "https://localhost:8080/"
        },
        "id": "b9EQxe0AjYs0",
        "outputId": "b55235f3-d78b-4cd3-ab5f-d3f6d2f9b4f7"
      },
      "execution_count": 11,
      "outputs": [
        {
          "output_type": "stream",
          "name": "stdout",
          "text": [
            "original dictionary: {'name': 'madhuri', 'age': 19, 'phone number': 9347905515, 'favorite food': 'chicken biryani'}\n"
          ]
        }
      ]
    },
    {
      "cell_type": "code",
      "source": [
        "x=[3,3,5,7,7,5,3,5,5,3]\n",
        "dict={}\n",
        "distinct=set(x)\n",
        "for i in distinct:\n",
        "     dict[i]=0\n",
        "for i in range(len(x)):\n",
        "    dict[x[i]]+=1\n",
        "print(dict)"
      ],
      "metadata": {
        "id": "bSUtUnWXnHbm"
      },
      "execution_count": null,
      "outputs": []
    },
    {
      "cell_type": "code",
      "source": [
        "x=[3,6,8,21,5,7,24,31,0,61]\n",
        "temp =0\n",
        "for i in x:\n",
        "    temp =x[i]+ 1\n",
        "    x[i]=x[j]\n",
        "    x[j]=temp\n",
        "print(x)\n",
        "\n"
      ],
      "metadata": {
        "id": "9wPAfRSLrqK1"
      },
      "execution_count": null,
      "outputs": []
    }
  ]
}
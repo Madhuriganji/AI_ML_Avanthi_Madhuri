{
  "nbformat": 4,
  "nbformat_minor": 0,
  "metadata": {
    "colab": {
      "provenance": [],
      "authorship_tag": "ABX9TyOy35bjEP9ZkA4ypbZjMuMf",
      "include_colab_link": true
    },
    "kernelspec": {
      "name": "python3",
      "display_name": "Python 3"
    },
    "language_info": {
      "name": "python"
    }
  },
  "cells": [
    {
      "cell_type": "markdown",
      "metadata": {
        "id": "view-in-github",
        "colab_type": "text"
      },
      "source": [
        "<a href=\"https://colab.research.google.com/github/Madhuriganji/AI_ML_Avanthi_Madhuri/blob/main/31_1_24.ipynb\" target=\"_parent\"><img src=\"https://colab.research.google.com/assets/colab-badge.svg\" alt=\"Open In Colab\"/></a>"
      ]
    },
    {
      "cell_type": "code",
      "execution_count": 5,
      "metadata": {
        "colab": {
          "base_uri": "https://localhost:8080/"
        },
        "id": "Wun4btTrlRUh",
        "outputId": "90e9bb38-6e00-42c0-8182-b320ca090c7e"
      },
      "outputs": [
        {
          "output_type": "stream",
          "name": "stdout",
          "text": [
            "dairy milk\n",
            "milkybar\n",
            "munch\n",
            "kitkat\n"
          ]
        }
      ],
      "source": [
        "def chocolates():\n",
        "  print(\"dairy milk\")\n",
        "  print(\"milkybar\")\n",
        "  print(\"munch\")\n",
        "chocolates()\n",
        "print(\"kitkat\")"
      ]
    },
    {
      "cell_type": "code",
      "source": [
        "def number(a):\n",
        "   if a>=5:\n",
        "     print(\"good\")\n",
        "   else:\n",
        "    print(\"Bad\")\n",
        "b=5\n",
        "number(b)\n",
        "b=10\n",
        "number(b)\n",
        "b=1\n",
        "number(b)"
      ],
      "metadata": {
        "colab": {
          "base_uri": "https://localhost:8080/"
        },
        "id": "fnu7JFbOo5Cq",
        "outputId": "87f09451-9ad2-4361-93e4-c2e8d5f0a855"
      },
      "execution_count": 6,
      "outputs": [
        {
          "output_type": "stream",
          "name": "stdout",
          "text": [
            "good\n",
            "good\n",
            "Bad\n"
          ]
        }
      ]
    },
    {
      "cell_type": "code",
      "source": [
        "def number(a,b):\n",
        "  print(a)\n",
        "  print(b)\n",
        "a=5\n",
        "b=6\n",
        "number(a,b)"
      ],
      "metadata": {
        "colab": {
          "base_uri": "https://localhost:8080/"
        },
        "id": "OGKB8lA4rKME",
        "outputId": "bd5c65b9-9f5f-4b68-dd56-ff33a76af3ff"
      },
      "execution_count": 7,
      "outputs": [
        {
          "output_type": "stream",
          "name": "stdout",
          "text": [
            "5\n",
            "6\n"
          ]
        }
      ]
    },
    {
      "cell_type": "code",
      "source": [
        "def Grade(marks):\n",
        "  if marks >=90 and marks<=100:\n",
        "   print(\"O grade\")\n",
        "  elif marks >=80 and marks<=90:\n",
        "    print(\"A+ grade\")\n",
        "  elif marks>=70 and marks<=80:\n",
        "   print (\"B+ grade\")\n",
        "  elif marks>=60 and marks<=70:\n",
        "   print (\"C+\")\n",
        "  elif marks>=50 and marks<=60:\n",
        "   print(\"D+\")\n",
        "  else:\n",
        "   print(\"F\")\n",
        "for i in range(10):\n",
        "  x=int(input(\"enter your marks:\"))\n",
        "  Grade(x)\n",
        "\n"
      ],
      "metadata": {
        "colab": {
          "base_uri": "https://localhost:8080/"
        },
        "id": "FqDknIgmreEd",
        "outputId": "bd9c0cf3-0ecb-4e10-a13d-5f9be593018a"
      },
      "execution_count": null,
      "outputs": [
        {
          "output_type": "stream",
          "name": "stdout",
          "text": [
            "enter your marks:78\n",
            "B+ grade\n",
            "enter your marks:56\n",
            "D+\n",
            "enter your marks:34\n",
            "F\n"
          ]
        }
      ]
    },
    {
      "cell_type": "markdown",
      "source": [],
      "metadata": {
        "id": "IQfDxRvzzRgO"
      }
    },
    {
      "cell_type": "code",
      "source": [
        "def number():\n",
        "  count=1\n",
        "  for i in range(1 to 5):\n",
        "  for j in range(i):\n",
        "   print(count end =\" \")\n",
        "   count ++=1\n",
        "print(\"\\n\")\n"
      ],
      "metadata": {
        "id": "k-T3NvlbzXJu"
      },
      "execution_count": null,
      "outputs": []
    },
    {
      "cell_type": "code",
      "source": [
        "for i in range(4,0,-1):\n",
        "   for j in range (i):\n",
        "     print ( \"*\",end=\"*\")\n",
        "   print(\"\\n\")"
      ],
      "metadata": {
        "id": "DoaaECAi4cJy"
      },
      "execution_count": null,
      "outputs": []
    },
    {
      "cell_type": "code",
      "source": [],
      "metadata": {
        "id": "0YCDNybX7XWB"
      },
      "execution_count": null,
      "outputs": []
    },
    {
      "cell_type": "code",
      "source": [],
      "metadata": {
        "id": "5y252icC7et3"
      },
      "execution_count": null,
      "outputs": []
    }
  ]
}